{
 "cells": [
  {
   "cell_type": "code",
   "execution_count": 1,
   "id": "df51b772",
   "metadata": {},
   "outputs": [],
   "source": [
    "from transformers import pipeline\n"
   ]
  },
  {
   "cell_type": "code",
   "execution_count": 2,
   "id": "142eb1aa",
   "metadata": {},
   "outputs": [
    {
     "data": {
      "application/vnd.jupyter.widget-view+json": {
       "model_id": "f5c0d0eb924e46619fff0cf696e7272b",
       "version_major": 2,
       "version_minor": 0
      },
      "text/plain": [
       "config.json:   0%|          | 0.00/1.58k [00:00<?, ?B/s]"
      ]
     },
     "metadata": {},
     "output_type": "display_data"
    },
    {
     "name": "stderr",
     "output_type": "stream",
     "text": [
      "c:\\Users\\ishaan.narayan\\AppData\\Local\\Programs\\Python\\Python311\\Lib\\site-packages\\huggingface_hub\\file_download.py:143: UserWarning: `huggingface_hub` cache-system uses symlinks by default to efficiently store duplicated files but your machine does not support them in C:\\Users\\ishaan.narayan\\.cache\\huggingface\\hub\\models--facebook--bart-large-cnn. Caching files will still work but in a degraded version that might require more space on your disk. This warning can be disabled by setting the `HF_HUB_DISABLE_SYMLINKS_WARNING` environment variable. For more details, see https://huggingface.co/docs/huggingface_hub/how-to-cache#limitations.\n",
      "To support symlinks on Windows, you either need to activate Developer Mode or to run Python as an administrator. In order to activate developer mode, see this article: https://docs.microsoft.com/en-us/windows/apps/get-started/enable-your-device-for-development\n",
      "  warnings.warn(message)\n"
     ]
    },
    {
     "name": "stdout",
     "output_type": "stream",
     "text": [
      "WARNING:tensorflow:From c:\\Users\\ishaan.narayan\\AppData\\Local\\Programs\\Python\\Python311\\Lib\\site-packages\\tf_keras\\src\\losses.py:2976: The name tf.losses.sparse_softmax_cross_entropy is deprecated. Please use tf.compat.v1.losses.sparse_softmax_cross_entropy instead.\n",
      "\n"
     ]
    },
    {
     "name": "stderr",
     "output_type": "stream",
     "text": [
      "Xet Storage is enabled for this repo, but the 'hf_xet' package is not installed. Falling back to regular HTTP download. For better performance, install the package with: `pip install huggingface_hub[hf_xet]` or `pip install hf_xet`\n"
     ]
    },
    {
     "data": {
      "application/vnd.jupyter.widget-view+json": {
       "model_id": "8bd442c519004d40b558c938a0855b32",
       "version_major": 2,
       "version_minor": 0
      },
      "text/plain": [
       "model.safetensors:   0%|          | 0.00/1.63G [00:00<?, ?B/s]"
      ]
     },
     "metadata": {},
     "output_type": "display_data"
    },
    {
     "data": {
      "application/vnd.jupyter.widget-view+json": {
       "model_id": "2d5b175cb74745f5b45cd7593d625bde",
       "version_major": 2,
       "version_minor": 0
      },
      "text/plain": [
       "generation_config.json:   0%|          | 0.00/363 [00:00<?, ?B/s]"
      ]
     },
     "metadata": {},
     "output_type": "display_data"
    },
    {
     "data": {
      "application/vnd.jupyter.widget-view+json": {
       "model_id": "e2af3018cd904dc8a0517f97874d22f6",
       "version_major": 2,
       "version_minor": 0
      },
      "text/plain": [
       "vocab.json:   0%|          | 0.00/899k [00:00<?, ?B/s]"
      ]
     },
     "metadata": {},
     "output_type": "display_data"
    },
    {
     "data": {
      "application/vnd.jupyter.widget-view+json": {
       "model_id": "dc7c9642f0924bcbb13050d21a60f5e6",
       "version_major": 2,
       "version_minor": 0
      },
      "text/plain": [
       "merges.txt:   0%|          | 0.00/456k [00:00<?, ?B/s]"
      ]
     },
     "metadata": {},
     "output_type": "display_data"
    },
    {
     "data": {
      "application/vnd.jupyter.widget-view+json": {
       "model_id": "0876512e8d114c70a7a1d25d68e3f752",
       "version_major": 2,
       "version_minor": 0
      },
      "text/plain": [
       "tokenizer.json:   0%|          | 0.00/1.36M [00:00<?, ?B/s]"
      ]
     },
     "metadata": {},
     "output_type": "display_data"
    },
    {
     "name": "stderr",
     "output_type": "stream",
     "text": [
      "Device set to use cpu\n"
     ]
    }
   ],
   "source": [
    "summary_generator = pipeline(\"summarization\", model = \"facebook/bart-large-cnn\" )"
   ]
  },
  {
   "cell_type": "code",
   "execution_count": 4,
   "id": "dde70f67",
   "metadata": {},
   "outputs": [],
   "source": [
    "large_text = (\n",
    "    \"The Internet is one of the most significant technological innovations of the 20th and 21st centuries, \"\n",
    "    \"fundamentally transforming how people communicate, work, learn, and access information. Its origins date back \"\n",
    "    \"to the late 1960s, when the United States Department of Defense funded research into robust, fault-tolerant \"\n",
    "    \"communication via computer networks. This research led to the development of ARPANET, the first operational \"\n",
    "    \"packet-switching network, which laid the foundation for today's Internet. \"\n",
    "    \"Initially, the Internet was used primarily by government agencies and academic institutions, but it rapidly expanded \"\n",
    "    \"in the 1980s and 1990s as new protocols and technologies made it more accessible and useful for the general public. \"\n",
    "    \"The invention of the World Wide Web by Tim Berners-Lee in 1989 was a major milestone, providing a user-friendly \"\n",
    "    \"interface and making it possible to link documents and resources across the globe. \"\n",
    "    \"Over the past few decades, the Internet has revolutionized countless aspects of daily life. It has enabled real-time \"\n",
    "    \"global communication through email, instant messaging, and video calls, shrinking the world and making it easier for \"\n",
    "    \"people to stay connected regardless of geographical location. Businesses of all sizes have leveraged the Internet to \"\n",
    "    \"reach new customers, streamline operations, and create innovative products and services. E-commerce, online banking, \"\n",
    "    \"and digital marketing are just a few examples of industries transformed by Internet technologies. \"\n",
    "    \"The Internet has also had a profound impact on education and access to information. Online courses, digital libraries, \"\n",
    "    \"and open educational resources have democratized learning, allowing people from all backgrounds to acquire new skills \"\n",
    "    \"and knowledge. Social media platforms have empowered individuals to share ideas, organize movements, and influence \"\n",
    "    \"public opinion on a scale never before possible. \"\n",
    "    \"However, the rapid growth of the Internet has also brought challenges. Issues such as cyber security, privacy, digital \"\n",
    "    \"divide, and the spread of misinformation require ongoing attention from governments, organizations, and individuals alike. \"\n",
    "    \"Despite these challenges, the Internet continues to evolve, with emerging technologies like artificial intelligence, the \"\n",
    "    \"Internet of Things, and 5G networks promising to further reshape society in the years to come. \"\n",
    "    \"In summary, the Internet's development has been a complex and ongoing journey, marked by both remarkable achievements \"\n",
    "    \"and significant challenges. As we look to the future, the Internet is likely to remain a driving force in shaping human \"\n",
    "    \"interaction, economic development, and the dissemination of knowledge across the globe.\"\n",
    ")"
   ]
  },
  {
   "cell_type": "code",
   "execution_count": 7,
   "id": "31542ca2",
   "metadata": {},
   "outputs": [
    {
     "name": "stdout",
     "output_type": "stream",
     "text": [
      "[{'summary_text': 'The Internet is one of the most significant technological innovations of the 20th and 21st centuries. Its origins date back to the late 1960s, when the U.S. Department of Defense funded research into robust, fault-toler'}]\n"
     ]
    }
   ],
   "source": [
    "print(summary_generator(large_text,max_length=50, min_length=15))"
   ]
  }
 ],
 "metadata": {
  "kernelspec": {
   "display_name": "Python 3",
   "language": "python",
   "name": "python3"
  },
  "language_info": {
   "codemirror_mode": {
    "name": "ipython",
    "version": 3
   },
   "file_extension": ".py",
   "mimetype": "text/x-python",
   "name": "python",
   "nbconvert_exporter": "python",
   "pygments_lexer": "ipython3",
   "version": "3.11.9"
  }
 },
 "nbformat": 4,
 "nbformat_minor": 5
}
