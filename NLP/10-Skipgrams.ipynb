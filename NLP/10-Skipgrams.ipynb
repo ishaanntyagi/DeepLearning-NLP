{
 "cells": [
  {
   "cell_type": "code",
   "execution_count": 3,
   "id": "6ffe4280",
   "metadata": {},
   "outputs": [],
   "source": [
    "import numpy as np\n",
    "from tensorflow.keras.preprocessing.text import Tokenizer\n",
    "from tensorflow.keras.preprocessing.sequence import skipgrams\n"
   ]
  },
  {
   "cell_type": "code",
   "execution_count": 4,
   "id": "22830447",
   "metadata": {},
   "outputs": [],
   "source": [
    "corpus = [\"the cat sat on the mat\"]"
   ]
  },
  {
   "cell_type": "code",
   "execution_count": 5,
   "id": "a23d76ab",
   "metadata": {},
   "outputs": [],
   "source": [
    "tokenizer = Tokenizer()\n",
    "tokenizer.fit_on_texts(corpus)\n",
    "word2idx = tokenizer.word_index\n",
    "idx2word = {v: k for k, v in word2idx.items()}\n",
    "sequences = tokenizer.texts_to_sequences(corpus)\n",
    "vocab_size = len(word2idx) + 1"
   ]
  },
  {
   "cell_type": "code",
   "execution_count": null,
   "id": "2d8c1218",
   "metadata": {},
   "outputs": [
    {
     "name": "stdout",
     "output_type": "stream",
     "text": [
      "Example skipgram pairs and labels:\n",
      "Target: on, Context: the, Label: 1\n",
      "Target: sat, Context: on, Label: 1\n",
      "Target: sat, Context: mat, Label: 0\n",
      "Target: sat, Context: the, Label: 1\n",
      "Target: mat, Context: sat, Label: 0\n"
     ]
    }
   ],
   "source": [
    "data = sequences[0]\n",
    "pairs, labels = skipgrams(data, vocabulary_size=vocab_size, window_size=2)\n",
    "\n",
    "print(\"Example skipgram pairs and labels:\")\n",
    "for i in range(5):\n",
    "    print(f\"Target: {idx2word.get(pairs[i][0])}, Context: {idx2word.get(pairs[i][1])}, Label: {labels[i]}\")"
   ]
  }
 ],
 "metadata": {
  "kernelspec": {
   "display_name": "Python 3",
   "language": "python",
   "name": "python3"
  },
  "language_info": {
   "codemirror_mode": {
    "name": "ipython",
    "version": 3
   },
   "file_extension": ".py",
   "mimetype": "text/x-python",
   "name": "python",
   "nbconvert_exporter": "python",
   "pygments_lexer": "ipython3",
   "version": "3.11.9"
  }
 },
 "nbformat": 4,
 "nbformat_minor": 5
}
