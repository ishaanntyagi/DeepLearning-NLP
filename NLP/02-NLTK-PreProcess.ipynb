{
 "cells": [
  {
   "cell_type": "code",
   "execution_count": 1,
   "id": "6be9b950",
   "metadata": {},
   "outputs": [],
   "source": [
    "# %pip install nltk\n"
   ]
  },
  {
   "cell_type": "code",
   "execution_count": 2,
   "id": "39f5edd4",
   "metadata": {},
   "outputs": [
    {
     "name": "stderr",
     "output_type": "stream",
     "text": [
      "[nltk_data] Downloading package punkt_tab to\n",
      "[nltk_data]     C:\\Users\\ishaan.narayan\\AppData\\Roaming\\nltk_data...\n",
      "[nltk_data]   Unzipping tokenizers\\punkt_tab.zip.\n",
      "[nltk_data] Downloading package stopwords to\n",
      "[nltk_data]     C:\\Users\\ishaan.narayan\\AppData\\Roaming\\nltk_data...\n",
      "[nltk_data]   Package stopwords is already up-to-date!\n"
     ]
    },
    {
     "data": {
      "text/plain": [
       "True"
      ]
     },
     "execution_count": 2,
     "metadata": {},
     "output_type": "execute_result"
    }
   ],
   "source": [
    "import nltk\n",
    "nltk.download('punkt_tab') #pretrianed Model for Tokenization\n",
    "nltk.download('stopwords') #Readymade list of StopWords\n",
    "\n",
    "#"
   ]
  },
  {
   "cell_type": "code",
   "execution_count": 3,
   "id": "cf23f22e",
   "metadata": {},
   "outputs": [],
   "source": [
    "text = (\"NLP is Amazing! It helps computers understand human language,even when the text is messy or unstructured.\")\n"
   ]
  },
  {
   "cell_type": "code",
   "execution_count": 4,
   "id": "ecd933ef",
   "metadata": {},
   "outputs": [
    {
     "name": "stdout",
     "output_type": "stream",
     "text": [
      "['NLP', 'is', 'Amazing', '!', 'It', 'helps', 'computers', 'understand', 'human', 'language', ',', 'even', 'when', 'the', 'text', 'is', 'messy', 'or', 'unstructured', '.']\n"
     ]
    }
   ],
   "source": [
    "from nltk.tokenize import word_tokenize\n",
    "tokens = word_tokenize(text)\n",
    "print(tokens)"
   ]
  },
  {
   "cell_type": "code",
   "execution_count": 7,
   "id": "8a2db671",
   "metadata": {},
   "outputs": [
    {
     "name": "stdout",
     "output_type": "stream",
     "text": [
      "nlp\n",
      "is\n",
      "amazing\n",
      "!\n",
      "it\n",
      "helps\n",
      "computers\n",
      "understand\n",
      "human\n",
      "language\n",
      ",\n",
      "even\n",
      "when\n",
      "the\n",
      "text\n",
      "is\n",
      "messy\n",
      "or\n",
      "unstructured\n",
      ".\n"
     ]
    }
   ],
   "source": [
    "for token in tokens:\n",
    "    tokens_updated = token.lower()\n",
    "    print(tokens_updated)\n",
    "    "
   ]
  },
  {
   "cell_type": "code",
   "execution_count": null,
   "id": "4a886694",
   "metadata": {},
   "outputs": [
    {
     "name": "stdout",
     "output_type": "stream",
     "text": [
      "['isn', 'they', 'y', \"it's\", \"you've\", 'or', 'having', \"don't\", \"he's\", 'so']\n"
     ]
    }
   ],
   "source": [
    "# print a set of English Predefined Stopwords \n",
    "from nltk.corpus import stopwords\n",
    "stop_words = set(stopwords.words('english'))\n",
    "print(list(stop_words)[:10])"
   ]
  },
  {
   "cell_type": "code",
   "execution_count": null,
   "id": "cb4fea84",
   "metadata": {},
   "outputs": [
    {
     "name": "stdout",
     "output_type": "stream",
     "text": [
      "['simple', 'NLP', 'example']\n"
     ]
    }
   ],
   "source": [
    "words = [\"this\", \"is\", \"a\", \"simple\", \"NLP\", \"example\"]\n",
    "filtered_words = []\n",
    "for word in words:\n",
    "    # Convert to lowercase and check if it's not a stop word\n",
    "    if word.lower() not in stop_words:\n",
    "        filtered_words.append(word)"
   ]
  },
  {
   "cell_type": "code",
   "execution_count": null,
   "id": "e5b725be",
   "metadata": {},
   "outputs": [],
   "source": []
  }
 ],
 "metadata": {
  "kernelspec": {
   "display_name": "Python 3",
   "language": "python",
   "name": "python3"
  },
  "language_info": {
   "codemirror_mode": {
    "name": "ipython",
    "version": 3
   },
   "file_extension": ".py",
   "mimetype": "text/x-python",
   "name": "python",
   "nbconvert_exporter": "python",
   "pygments_lexer": "ipython3",
   "version": "3.11.9"
  }
 },
 "nbformat": 4,
 "nbformat_minor": 5
}
