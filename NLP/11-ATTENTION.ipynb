{
 "cells": [
  {
   "cell_type": "code",
   "execution_count": 1,
   "id": "486670ca",
   "metadata": {},
   "outputs": [],
   "source": [
    "import math"
   ]
  },
  {
   "cell_type": "code",
   "execution_count": 3,
   "id": "2da7a244",
   "metadata": {},
   "outputs": [],
   "source": [
    "scores = [1.0, 2.0, 3.0]\n",
    "#Basic Importance Score. considering Last word is More Important as it has 3.0 , HIGHER THAN THE OTHERS"
   ]
  },
  {
   "cell_type": "code",
   "execution_count": 4,
   "id": "0652dd2b",
   "metadata": {},
   "outputs": [],
   "source": [
    "exp_scores = []\n",
    "for score in scores:\n",
    "    exp_scores.append(math.exp(score))\n",
    "    "
   ]
  },
  {
   "cell_type": "code",
   "execution_count": 5,
   "id": "2e085952",
   "metadata": {},
   "outputs": [],
   "source": [
    "total = 0\n",
    "for value in exp_scores:\n",
    "    total += value"
   ]
  },
  {
   "cell_type": "code",
   "execution_count": null,
   "id": "401aa617",
   "metadata": {},
   "outputs": [
    {
     "name": "stdout",
     "output_type": "stream",
     "text": [
      "[0.09003057317038046, 0.24472847105479767, 0.6652409557748219]\n"
     ]
    }
   ],
   "source": [
    "attention_weights = []\n",
    "for value in exp_scores:\n",
    "    attention_weights.append(value / total)\n",
    "print(attention_weights)    \n"
   ]
  },
  {
   "cell_type": "code",
   "execution_count": null,
   "id": "3d22dfa0",
   "metadata": {},
   "outputs": [],
   "source": []
  }
 ],
 "metadata": {
  "kernelspec": {
   "display_name": "Python 3",
   "language": "python",
   "name": "python3"
  },
  "language_info": {
   "codemirror_mode": {
    "name": "ipython",
    "version": 3
   },
   "file_extension": ".py",
   "mimetype": "text/x-python",
   "name": "python",
   "nbconvert_exporter": "python",
   "pygments_lexer": "ipython3",
   "version": "3.11.9"
  }
 },
 "nbformat": 4,
 "nbformat_minor": 5
}
