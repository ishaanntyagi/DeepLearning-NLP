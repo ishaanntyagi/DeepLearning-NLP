{
 "cells": [
  {
   "cell_type": "markdown",
   "id": "ed8f684c",
   "metadata": {},
   "source": [
    "TF-IDF Score\n",
    "TF-IDF = TF × IDF\n",
    "High TF-IDF: Word appears often in a document but rarely in others (important for that document).\n",
    "Low TF-IDF: Word is common across many documents (less informative)."
   ]
  },
  {
   "cell_type": "code",
   "execution_count": 1,
   "id": "a1ee321a",
   "metadata": {},
   "outputs": [],
   "source": [
    "from sklearn.feature_extraction.text import CountVectorizer, TfidfTransformer, TfidfVectorizer\n"
   ]
  },
  {
   "cell_type": "code",
   "execution_count": null,
   "id": "b29e6ccf",
   "metadata": {},
   "outputs": [],
   "source": [
    "documents = [\n",
    "    \"NLP is amazing and fun\",\n",
    "    \"I love NLP and deep learning\",\n",
    "    \"NLP helps computers understand human language\",\n",
    "    \"\"\n",
    "]"
   ]
  },
  {
   "cell_type": "code",
   "execution_count": 6,
   "id": "06be1860",
   "metadata": {},
   "outputs": [],
   "source": [
    "vectorizer = CountVectorizer()\n",
    "X = vectorizer.fit_transform(documents)\n"
   ]
  },
  {
   "cell_type": "code",
   "execution_count": 4,
   "id": "92e9f8c4",
   "metadata": {},
   "outputs": [],
   "source": [
    "tf_idf_vec = TfidfVectorizer()\n",
    "Y = tf_idf_vec.fit_transform(documents)\n"
   ]
  },
  {
   "cell_type": "code",
   "execution_count": 5,
   "id": "d0e6180d",
   "metadata": {},
   "outputs": [
    {
     "name": "stdout",
     "output_type": "stream",
     "text": [
      "Vocabulary (columns):\n",
      "['amazing' 'and' 'computers' 'deep' 'fun' 'helps' 'human' 'is' 'language'\n",
      " 'learning' 'love' 'nlp' 'understand']\n",
      "\n"
     ]
    }
   ],
   "source": [
    "vocab = vectorizer.get_feature_names_out()\n",
    "print(\"Vocabulary (columns):\")\n",
    "print(vocab)\n",
    "print()"
   ]
  },
  {
   "cell_type": "code",
   "execution_count": 7,
   "id": "dece2397",
   "metadata": {},
   "outputs": [
    {
     "name": "stdout",
     "output_type": "stream",
     "text": [
      "[[0.50461134 0.38376993 0.         0.         0.50461134 0.\n",
      "  0.         0.50461134 0.         0.         0.         0.29803159\n",
      "  0.        ]\n",
      " [0.         0.38376993 0.         0.50461134 0.         0.\n",
      "  0.         0.         0.         0.50461134 0.50461134 0.29803159\n",
      "  0.        ]\n",
      " [0.         0.         0.43238509 0.         0.         0.43238509\n",
      "  0.43238509 0.         0.43238509 0.         0.         0.2553736\n",
      "  0.43238509]]\n"
     ]
    }
   ],
   "source": [
    "tf_idf_array = Y.toarray()\n",
    "print(tf_idf_array)"
   ]
  }
 ],
 "metadata": {
  "kernelspec": {
   "display_name": "Python 3",
   "language": "python",
   "name": "python3"
  },
  "language_info": {
   "codemirror_mode": {
    "name": "ipython",
    "version": 3
   },
   "file_extension": ".py",
   "mimetype": "text/x-python",
   "name": "python",
   "nbconvert_exporter": "python",
   "pygments_lexer": "ipython3",
   "version": "3.11.9"
  }
 },
 "nbformat": 4,
 "nbformat_minor": 5
}
