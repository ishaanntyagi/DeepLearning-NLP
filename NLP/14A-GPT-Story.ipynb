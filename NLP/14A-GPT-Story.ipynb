{
 "cells": [
  {
   "cell_type": "code",
   "execution_count": 1,
   "id": "13f4ae04",
   "metadata": {},
   "outputs": [],
   "source": [
    "from transformers import pipeline"
   ]
  },
  {
   "cell_type": "code",
   "execution_count": 2,
   "id": "e81a6b45",
   "metadata": {},
   "outputs": [
    {
     "name": "stdout",
     "output_type": "stream",
     "text": [
      "WARNING:tensorflow:From c:\\Users\\ishaan.narayan\\AppData\\Local\\Programs\\Python\\Python311\\Lib\\site-packages\\tf_keras\\src\\losses.py:2976: The name tf.losses.sparse_softmax_cross_entropy is deprecated. Please use tf.compat.v1.losses.sparse_softmax_cross_entropy instead.\n",
      "\n"
     ]
    },
    {
     "name": "stderr",
     "output_type": "stream",
     "text": [
      "Device set to use cpu\n"
     ]
    }
   ],
   "source": [
    "generator = pipeline(\"text-generation\", model=\"gpt2\")"
   ]
  },
  {
   "cell_type": "code",
   "execution_count": 3,
   "id": "d4adc853",
   "metadata": {},
   "outputs": [],
   "source": [
    "prompt = \"In a small village at the edge of an ancient forest, a curious child named Gekko found a mysterious key and a wingMan like creature similar to what gekko has in VALORANT\"\n"
   ]
  },
  {
   "cell_type": "code",
   "execution_count": 8,
   "id": "894d7f1e",
   "metadata": {},
   "outputs": [
    {
     "name": "stderr",
     "output_type": "stream",
     "text": [
      "Setting `pad_token_id` to `eos_token_id`:50256 for open-end generation.\n",
      "Both `max_new_tokens` (=256) and `max_length`(=150) seem to have been set. `max_new_tokens` will take precedence. Please refer to the documentation for more information. (https://huggingface.co/docs/transformers/main/en/main_classes/text_generation)\n"
     ]
    }
   ],
   "source": [
    "output = generator(prompt, max_length=150, num_return_sequences=1)"
   ]
  },
  {
   "cell_type": "code",
   "execution_count": 9,
   "id": "ad73eabd",
   "metadata": {},
   "outputs": [
    {
     "name": "stdout",
     "output_type": "stream",
     "text": [
      "[{'generated_text': \"In a small village at the edge of an ancient forest, a curious child named Gekko found a mysterious key and a wingMan like creature similar to what gekko has in VALORANT and KOSCAR. The key was a piece of black metal and the creature that wields it was a creature that was so powerful that even the world could not defeat it. It was Gekko who drew out the key and put it on the table. The key was a white and black jewel that Gekko had given to an ancient city in the middle of the forest. The jewel was the key, the jeweled gemstone that had been given to the city.\\n\\nThe jewel was a white gemstone and it was Gekko who used it to light the lantern and made sure that a new village that had a large number of residents didn't get drowned. The lantern was a bright red light that was the same as the one that would light the lantern and Gekko who drew the lantern saw that it was a white gemstone that was given to the city. The city was surrounded by a number of mountains that were covered in snow. Gekko who drew the lantern was able to get in and grab the gemstone and then, after a few minutes, he took out the lantern and placed it on the table. The lantern light that had been given to the city was very bright and Gekko who drew the lantern saw that it\"}]\n"
     ]
    }
   ],
   "source": [
    "print(output)"
   ]
  }
 ],
 "metadata": {
  "kernelspec": {
   "display_name": "Python 3",
   "language": "python",
   "name": "python3"
  },
  "language_info": {
   "codemirror_mode": {
    "name": "ipython",
    "version": 3
   },
   "file_extension": ".py",
   "mimetype": "text/x-python",
   "name": "python",
   "nbconvert_exporter": "python",
   "pygments_lexer": "ipython3",
   "version": "3.11.9"
  }
 },
 "nbformat": 4,
 "nbformat_minor": 5
}
