{
 "cells": [
  {
   "cell_type": "code",
   "execution_count": 1,
   "id": "13f4ae04",
   "metadata": {},
   "outputs": [],
   "source": [
    "from transformers import pipeline"
   ]
  },
  {
   "cell_type": "code",
   "execution_count": 2,
   "id": "e81a6b45",
   "metadata": {},
   "outputs": [
    {
     "name": "stdout",
     "output_type": "stream",
     "text": [
      "WARNING:tensorflow:From c:\\Users\\ishaan.narayan\\AppData\\Local\\Programs\\Python\\Python311\\Lib\\site-packages\\tf_keras\\src\\losses.py:2976: The name tf.losses.sparse_softmax_cross_entropy is deprecated. Please use tf.compat.v1.losses.sparse_softmax_cross_entropy instead.\n",
      "\n"
     ]
    },
    {
     "name": "stderr",
     "output_type": "stream",
     "text": [
      "Device set to use cpu\n"
     ]
    }
   ],
   "source": [
    "generator = pipeline(\"text-generation\", model=\"gpt2\")"
   ]
  },
  {
   "cell_type": "code",
   "execution_count": 3,
   "id": "d4adc853",
   "metadata": {},
   "outputs": [],
   "source": [
    "prompt = \"In a small village at the edge of an ancient forest, a curious child named Gekko found a mysterious key and a wingMan like creature similar to what gekko has in VALORANT\"\n"
   ]
  },
  {
   "cell_type": "code",
   "execution_count": 4,
   "id": "894d7f1e",
   "metadata": {},
   "outputs": [
    {
     "name": "stderr",
     "output_type": "stream",
     "text": [
      "Truncation was not explicitly activated but `max_length` is provided a specific value, please use `truncation=True` to explicitly truncate examples to max length. Defaulting to 'longest_first' truncation strategy. If you encode pairs of sequences (GLUE-style) with the tokenizer you can select this strategy more precisely by providing a specific strategy to `truncation`.\n",
      "Setting `pad_token_id` to `eos_token_id`:50256 for open-end generation.\n",
      "Both `max_new_tokens` (=256) and `max_length`(=150) seem to have been set. `max_new_tokens` will take precedence. Please refer to the documentation for more information. (https://huggingface.co/docs/transformers/main/en/main_classes/text_generation)\n"
     ]
    }
   ],
   "source": [
    "output = generator(prompt, max_length=150, num_return_sequences=1)"
   ]
  },
  {
   "cell_type": "code",
   "execution_count": 5,
   "id": "ad73eabd",
   "metadata": {},
   "outputs": [
    {
     "name": "stdout",
     "output_type": "stream",
     "text": [
      "[{'generated_text': \"In a small village at the edge of an ancient forest, a curious child named Gekko found a mysterious key and a wingMan like creature similar to what gekko has in VALORANT. In this new world, Gekko was a boy and his parents were a boy and his father a boy. He was a hunter, a fisherman, a soldier, and a hunter's son. In VALORANT, Gekko was always a boy, he took his father's life, he left his home and went to school for three weeks. He was always a boy. He was always playing with his father's toy and making love to his father's toy. He was always a boy and his mother's toy. He was always a boy and he was always a boy. Gekko's parents wanted him to have a good life, and they wanted him to learn to love. It was a simple idea. They wanted Gekko to have a good life. Gekko was a boy and his father wanted him to have a good life.\\n\\nGekko was once a boy and his father wanted him to have a good life. The world was a dark place, and Gekko's parents wanted him to have a good life. Gekko's father always told Gekko he would never have a good life, but he had to, and at that time, he was a boy. His father always told him that\"}]\n"
     ]
    }
   ],
   "source": [
    "print(output)"
   ]
  }
 ],
 "metadata": {
  "kernelspec": {
   "display_name": "Python 3",
   "language": "python",
   "name": "python3"
  },
  "language_info": {
   "codemirror_mode": {
    "name": "ipython",
    "version": 3
   },
   "file_extension": ".py",
   "mimetype": "text/x-python",
   "name": "python",
   "nbconvert_exporter": "python",
   "pygments_lexer": "ipython3",
   "version": "3.11.9"
  }
 },
 "nbformat": 4,
 "nbformat_minor": 5
}
