{
 "cells": [
  {
   "cell_type": "code",
   "execution_count": 2,
   "id": "00cc1907",
   "metadata": {},
   "outputs": [],
   "source": [
    "#LowerCasing Via Python"
   ]
  },
  {
   "cell_type": "code",
   "execution_count": 3,
   "id": "9dd49086",
   "metadata": {},
   "outputs": [
    {
     "name": "stdout",
     "output_type": "stream",
     "text": [
      " QWERTYUIOP %. ASDFGHJKL :, ZXCVBNM. .<>? \n",
      " qwertyuiop %. asdfghjkl :, zxcvbnm. .<>? \n"
     ]
    }
   ],
   "source": [
    "text = \" QWERTYUIOP %. ASDFGHJKL :, ZXCVBNM. .<>? \"\n",
    "lowerCased = text.lower()\n",
    "print(text)\n",
    "print(lowerCased)"
   ]
  },
  {
   "cell_type": "code",
   "execution_count": 4,
   "id": "eff0959b",
   "metadata": {},
   "outputs": [],
   "source": [
    "#Removing Punctuation Via Split and String "
   ]
  },
  {
   "cell_type": "code",
   "execution_count": null,
   "id": "2e6fd59e",
   "metadata": {},
   "outputs": [
    {
     "name": "stdout",
     "output_type": "stream",
     "text": [
      " QWERTYUIOP %. ASDFGHJKL :, ZXCVBNM. .<>? \n",
      " QWERTYUIOP  ASDFGHJKL  ZXCVBNM  \n"
     ]
    }
   ],
   "source": [
    "import string \n",
    "print(text)\n",
    "text_without_punc = text.translate(str.maketrans('','',string.punctuation))\n",
    "#str.maketrans(has 3 attributes , chr_to_replace, replacement_chr, chrs_to_delete)\n",
    "print(text_without_punc)\n"
   ]
  },
  {
   "cell_type": "code",
   "execution_count": 8,
   "id": "a54d27d4",
   "metadata": {},
   "outputs": [
    {
     "name": "stdout",
     "output_type": "stream",
     "text": [
      "['QWERTYUIOP', '%.', 'ASDFGHJKL', ':,', 'ZXCVBNM.', '.<>?']\n",
      "['QWERTYUIOP', 'ASDFGHJKL', 'ZXCVBNM']\n"
     ]
    }
   ],
   "source": [
    "#converting into tokens()\n",
    "tokens = text.split()\n",
    "print(tokens)\n",
    "\n",
    "token_new = text_without_punc.split()\n",
    "print(token_new)"
   ]
  }
 ],
 "metadata": {
  "kernelspec": {
   "display_name": "Python 3",
   "language": "python",
   "name": "python3"
  },
  "language_info": {
   "codemirror_mode": {
    "name": "ipython",
    "version": 3
   },
   "file_extension": ".py",
   "mimetype": "text/x-python",
   "name": "python",
   "nbconvert_exporter": "python",
   "pygments_lexer": "ipython3",
   "version": "3.11.9"
  }
 },
 "nbformat": 4,
 "nbformat_minor": 5
}
