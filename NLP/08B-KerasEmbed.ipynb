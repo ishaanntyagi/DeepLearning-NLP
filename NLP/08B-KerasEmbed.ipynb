{
 "cells": [
  {
   "cell_type": "code",
   "execution_count": 1,
   "id": "bb6cd573",
   "metadata": {},
   "outputs": [],
   "source": [
    "# Example sentences about NLP\n",
    "texts = [\n",
    "    \"NLP is fun and powerful\",\n",
    "    \"Deep learning is a key part of NLP\",\n",
    "    \"Word embeddings help computers understand language\",\n",
    "    \"Keras makes it easy to build NLP models\"\n",
    "]"
   ]
  },
  {
   "cell_type": "code",
   "execution_count": null,
   "id": "43d61849",
   "metadata": {},
   "outputs": [],
   "source": [
    "# --> On Hold For Now"
   ]
  }
 ],
 "metadata": {
  "kernelspec": {
   "display_name": "Python 3",
   "language": "python",
   "name": "python3"
  },
  "language_info": {
   "codemirror_mode": {
    "name": "ipython",
    "version": 3
   },
   "file_extension": ".py",
   "mimetype": "text/x-python",
   "name": "python",
   "nbconvert_exporter": "python",
   "pygments_lexer": "ipython3",
   "version": "3.11.9"
  }
 },
 "nbformat": 4,
 "nbformat_minor": 5
}
