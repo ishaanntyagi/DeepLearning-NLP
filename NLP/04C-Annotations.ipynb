{
 "cells": [
  {
   "cell_type": "code",
   "execution_count": 3,
   "id": "dab35f08",
   "metadata": {},
   "outputs": [],
   "source": [
    "from textblob import TextBlob\n"
   ]
  },
  {
   "cell_type": "code",
   "execution_count": 4,
   "id": "293f83f3",
   "metadata": {},
   "outputs": [],
   "source": [
    "text = \"NLP is amazing! It makes it easy for computers to understand language. Sometimes, the results can be disappointing.\""
   ]
  },
  {
   "cell_type": "code",
   "execution_count": 5,
   "id": "370f3f17",
   "metadata": {},
   "outputs": [],
   "source": [
    "blob = TextBlob(text)"
   ]
  },
  {
   "cell_type": "code",
   "execution_count": null,
   "id": "707b7947",
   "metadata": {},
   "outputs": [
    {
     "name": "stdout",
     "output_type": "stream",
     "text": [
      "Sentence: NLP is amazing!\n",
      "Sentiment: Positive\n",
      "\n",
      "Sentence: It makes it easy for computers to understand language.\n",
      "Sentiment: Positive\n",
      "\n",
      "Sentence: Sometimes, the results can be disappointing.\n",
      "Sentiment: Negative\n",
      "\n"
     ]
    }
   ],
   "source": [
    "for sentence in blob.sentences:\n",
    "    polarity = sentence.sentiment.polarity  # Number between -1 (bad) and 1 (good)\n",
    "    # Decide if it is positive, negative, or neutral\n",
    "    if polarity > 0:\n",
    "        tag = \"Positive\"\n",
    "    elif polarity < 0:\n",
    "        tag = \"Negative\"\n",
    "    else:\n",
    "        tag = \"Neutral\"\n",
    "    print(\"Sentence:\", sentence)\n",
    "    print(\"Sentiment:\", tag)\n",
    "    print()s"
   ]
  },
  {
   "cell_type": "code",
   "execution_count": null,
   "id": "e77f5c23",
   "metadata": {},
   "outputs": [],
   "source": []
  }
 ],
 "metadata": {
  "kernelspec": {
   "display_name": "Python 3",
   "language": "python",
   "name": "python3"
  },
  "language_info": {
   "codemirror_mode": {
    "name": "ipython",
    "version": 3
   },
   "file_extension": ".py",
   "mimetype": "text/x-python",
   "name": "python",
   "nbconvert_exporter": "python",
   "pygments_lexer": "ipython3",
   "version": "3.11.9"
  }
 },
 "nbformat": 4,
 "nbformat_minor": 5
}
