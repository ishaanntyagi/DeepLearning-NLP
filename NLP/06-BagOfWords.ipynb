{
 "cells": [
  {
   "cell_type": "code",
   "execution_count": 1,
   "id": "9e09c63a",
   "metadata": {},
   "outputs": [],
   "source": [
    "#BagOfWords\n",
    "#from Sklearn \n",
    "from sklearn.feature_extraction.text import CountVectorizer"
   ]
  },
  {
   "cell_type": "code",
   "execution_count": 3,
   "id": "d91ff66d",
   "metadata": {},
   "outputs": [],
   "source": [
    "# Step 3: Prepare your list of text documents\n",
    "documents = [\n",
    "    \"NLP is amazing\",\n",
    "    \"I love NLP and deep learning\",\n",
    "    \"NLP helps computers understand human language\"\n",
    "]"
   ]
  },
  {
   "cell_type": "code",
   "execution_count": 2,
   "id": "802f6fdf",
   "metadata": {},
   "outputs": [],
   "source": [
    "vectorizer = CountVectorizer()"
   ]
  },
  {
   "cell_type": "code",
   "execution_count": 4,
   "id": "a53ca2b0",
   "metadata": {},
   "outputs": [],
   "source": [
    "X = vectorizer.fit_transform(documents)\n"
   ]
  },
  {
   "cell_type": "code",
   "execution_count": 5,
   "id": "edc9951e",
   "metadata": {},
   "outputs": [
    {
     "name": "stdout",
     "output_type": "stream",
     "text": [
      "<Compressed Sparse Row sparse matrix of dtype 'int64'\n",
      "\twith 14 stored elements and shape (3, 12)>\n",
      "  Coords\tValues\n",
      "  (0, 10)\t1\n",
      "  (0, 6)\t1\n",
      "  (0, 0)\t1\n",
      "  (1, 10)\t1\n",
      "  (1, 9)\t1\n",
      "  (1, 1)\t1\n",
      "  (1, 3)\t1\n",
      "  (1, 8)\t1\n",
      "  (2, 10)\t1\n",
      "  (2, 4)\t1\n",
      "  (2, 2)\t1\n",
      "  (2, 11)\t1\n",
      "  (2, 5)\t1\n",
      "  (2, 7)\t1\n"
     ]
    }
   ],
   "source": [
    "print(X)"
   ]
  },
  {
   "cell_type": "code",
   "execution_count": 6,
   "id": "8e8dcef5",
   "metadata": {},
   "outputs": [
    {
     "name": "stdout",
     "output_type": "stream",
     "text": [
      "[[1 0 0 0 0 0 1 0 0 0 1 0]\n",
      " [0 1 0 1 0 0 0 0 1 1 1 0]\n",
      " [0 0 1 0 1 1 0 1 0 0 1 1]]\n"
     ]
    }
   ],
   "source": [
    "bag_array = X.toarray()\n",
    "print(bag_array)"
   ]
  },
  {
   "cell_type": "code",
   "execution_count": 7,
   "id": "0732dae6",
   "metadata": {},
   "outputs": [
    {
     "name": "stdout",
     "output_type": "stream",
     "text": [
      "Vocabulary List:\n",
      "['amazing' 'and' 'computers' 'deep' 'helps' 'human' 'is' 'language'\n",
      " 'learning' 'love' 'nlp' 'understand']\n",
      "\n"
     ]
    }
   ],
   "source": [
    "vocabulary = vectorizer.get_feature_names_out()\n",
    "print(\"Vocabulary List:\")\n",
    "print(vocabulary)\n",
    "print(\"\")"
   ]
  },
  {
   "cell_type": "markdown",
   "id": "6cad8a74",
   "metadata": {},
   "source": [
    "\tamazing\tand\tcomputers\tdeep\thelps\thuman\tlanguage\tlearning love\tnlp\tunderstand\tis\t\n",
    "Doc 1\t1\t0\t0\t0\t0\t0\t0\t0\t0\t1\t0\t1\n",
    "Doc 2\t0\t1\t0\t1\t0\t0\t0\t1\t1\t1\t0\t0\n",
    "Doc 3\t0\t0\t1\t0\t1\t1\t1\t0\t0\t1\t1\t0\n",
    "\n",
    "#This is The Stucture of the bag Of Words Thing That has been Created By the \n",
    ".vectorize"
   ]
  },
  {
   "cell_type": "code",
   "execution_count": null,
   "id": "e9b4a7f5",
   "metadata": {},
   "outputs": [],
   "source": []
  }
 ],
 "metadata": {
  "kernelspec": {
   "display_name": "Python 3",
   "language": "python",
   "name": "python3"
  },
  "language_info": {
   "codemirror_mode": {
    "name": "ipython",
    "version": 3
   },
   "file_extension": ".py",
   "mimetype": "text/x-python",
   "name": "python",
   "nbconvert_exporter": "python",
   "pygments_lexer": "ipython3",
   "version": "3.11.9"
  }
 },
 "nbformat": 4,
 "nbformat_minor": 5
}
