{
 "cells": [
  {
   "cell_type": "code",
   "execution_count": 6,
   "id": "68f506e2",
   "metadata": {},
   "outputs": [],
   "source": [
    "sentences = [\n",
    "    ['i', 'love', 'nlp'],\n",
    "    ['nlp', 'is', 'fun'],\n",
    "    ['i', 'love', 'learning'],\n",
    "    ['word', 'embeddings', 'are', 'useful']\n",
    "]"
   ]
  },
  {
   "cell_type": "code",
   "execution_count": 7,
   "id": "da1c4f91",
   "metadata": {},
   "outputs": [],
   "source": [
    "from gensim.models import Word2Vec\n",
    "#Word2Vec Are Pre Trained Model that was Already Trained on a large Dataset!"
   ]
  },
  {
   "cell_type": "code",
   "execution_count": 8,
   "id": "d8b8e13c",
   "metadata": {},
   "outputs": [],
   "source": [
    "model = Word2Vec(sentences,vector_size=20, window=2, min_count=1, workers=1, sg=0)\n"
   ]
  },
  {
   "cell_type": "code",
   "execution_count": 9,
   "id": "b3781eb4",
   "metadata": {},
   "outputs": [
    {
     "name": "stdout",
     "output_type": "stream",
     "text": [
      "[-0.00268114  0.00118216  0.02551675  0.04504637 -0.04651475 -0.03558404\n",
      "  0.03229436  0.04486494 -0.02507714 -0.01881686  0.03690252 -0.00766736\n",
      " -0.02268307  0.03277026 -0.0243008  -0.00908009  0.0143829   0.00495937\n",
      " -0.04142607 -0.04724409]\n"
     ]
    }
   ],
   "source": [
    "word_vector = model.wv['nlp']\n",
    "print(word_vector)"
   ]
  },
  {
   "cell_type": "code",
   "execution_count": 10,
   "id": "5513de6c",
   "metadata": {},
   "outputs": [
    {
     "name": "stdout",
     "output_type": "stream",
     "text": [
      "[('embeddings', 0.39641639590263367), ('useful', 0.055958494544029236), ('love', 0.05017898976802826), ('learning', -0.030700024217367172), ('are', -0.06502575427293777), ('is', -0.16369317471981049), ('i', -0.2928890585899353), ('fun', -0.30291226506233215), ('word', -0.34770920872688293)]\n"
     ]
    }
   ],
   "source": [
    "print(model.wv.most_similar('nlp'))"
   ]
  }
 ],
 "metadata": {
  "kernelspec": {
   "display_name": "Python 3",
   "language": "python",
   "name": "python3"
  },
  "language_info": {
   "codemirror_mode": {
    "name": "ipython",
    "version": 3
   },
   "file_extension": ".py",
   "mimetype": "text/x-python",
   "name": "python",
   "nbconvert_exporter": "python",
   "pygments_lexer": "ipython3",
   "version": "3.11.9"
  }
 },
 "nbformat": 4,
 "nbformat_minor": 5
}
