{
 "cells": [
  {
   "cell_type": "code",
   "execution_count": 3,
   "id": "216d12a1",
   "metadata": {},
   "outputs": [],
   "source": [
    "import numpy as np \n",
    "from tensorflow.keras.preprocessing.text import Tokenizer\n",
    "from tensorflow.keras.preprocessing.sequence import pad_sequences\n",
    "from tensorflow.keras.models import Sequential \n",
    "from tensorflow.keras.layers import Embedding, Flatten, Dense"
   ]
  },
  {
   "cell_type": "code",
   "execution_count": 5,
   "id": "b5dd2038",
   "metadata": {},
   "outputs": [],
   "source": [
    "texts = [\n",
    "    \"I love this movie!\",            \n",
    "    \"This film was awesome!\",        \n",
    "    \"I hated this movie.\",           \n",
    "    \"This was a terrible film.\",     \n",
    "    \"What a great experience!\",      \n",
    "    \"Awful, I will not watch again.\" ]"
   ]
  },
  {
   "cell_type": "code",
   "execution_count": 6,
   "id": "0716c2a0",
   "metadata": {},
   "outputs": [],
   "source": [
    "labels = [1, 1, 0, 0, 1, 0]\n",
    "#Labels for the Texts, if that is Positive sentiment or a Negative Sentiment "
   ]
  },
  {
   "cell_type": "code",
   "execution_count": 7,
   "id": "2247ecc1",
   "metadata": {},
   "outputs": [],
   "source": [
    "tokenizer = Tokenizer()\n",
    "tokenizer.fit_on_texts(texts)\n",
    "sequences = tokenizer.texts_to_sequences(texts)\n"
   ]
  },
  {
   "cell_type": "code",
   "execution_count": 9,
   "id": "24dbaf12",
   "metadata": {},
   "outputs": [],
   "source": [
    "max_len = 8 #max length of Sentences ( in words )\n",
    "padded_sequences = pad_sequences(sequences, padding='post', maxlen=max_len)"
   ]
  },
  {
   "cell_type": "code",
   "execution_count": null,
   "id": "3e5b8855",
   "metadata": {},
   "outputs": [
    {
     "name": "stderr",
     "output_type": "stream",
     "text": [
      "c:\\Users\\ishaan.narayan\\AppData\\Local\\Programs\\Python\\Python311\\Lib\\site-packages\\keras\\src\\layers\\core\\embedding.py:97: UserWarning: Argument `input_length` is deprecated. Just remove it.\n",
      "  warnings.warn(\n"
     ]
    }
   ],
   "source": [
    "#Now Will be Building the neural Model \n",
    "model = Sequential([\n",
    "    Embedding(input_dim=1000, output_dim=16, input_length=8), # 1st layer\n",
    "    Flatten(),                                                # 2nd layer\n",
    "    Dense(1, activation='sigmoid')                            # 3rd (output) layer\n",
    "])\n",
    "# model = sequential ([...]) --> this will create a neural Network where the layers will be in order like a list\n",
    "\n",
    "# Layer 1 will be the Embedding Layer ( input_dim = 1000, output_dim = 16 , input_length = 8)\n",
    "# converts each word in The iput To A dense Vector \n",
    "\n",
    "# outPut_dim means that each word will be represented as a list of 16 numbers \n",
    " \n",
    "# Flatten() --> input if 8 , and Output Embedding Vector is 16 , hence Output will be 128\n",
    "\n",
    "# Dense ( 1, Activation='sigmoid')\n"
   ]
  },
  {
   "cell_type": "code",
   "execution_count": 13,
   "id": "936aaba0",
   "metadata": {},
   "outputs": [],
   "source": [
    "model.compile(\n",
    "    optimizer='adam',\n",
    "    loss='binary_crossentropy',\n",
    "    metrics =['accuracy']\n",
    ")"
   ]
  },
  {
   "cell_type": "code",
   "execution_count": 14,
   "id": "e0c36395",
   "metadata": {},
   "outputs": [
    {
     "name": "stdout",
     "output_type": "stream",
     "text": [
      "Epoch 1/20\n",
      "1/1 - 1s - 1s/step - accuracy: 0.6667 - loss: 0.6954\n",
      "Epoch 2/20\n",
      "1/1 - 0s - 60ms/step - accuracy: 0.6667 - loss: 0.6923\n",
      "Epoch 3/20\n",
      "1/1 - 0s - 51ms/step - accuracy: 0.6667 - loss: 0.6893\n",
      "Epoch 4/20\n",
      "1/1 - 0s - 72ms/step - accuracy: 0.6667 - loss: 0.6863\n",
      "Epoch 5/20\n",
      "1/1 - 0s - 82ms/step - accuracy: 0.6667 - loss: 0.6833\n",
      "Epoch 6/20\n",
      "1/1 - 0s - 100ms/step - accuracy: 0.6667 - loss: 0.6803\n",
      "Epoch 7/20\n",
      "1/1 - 0s - 110ms/step - accuracy: 0.8333 - loss: 0.6773\n",
      "Epoch 8/20\n",
      "1/1 - 0s - 94ms/step - accuracy: 0.8333 - loss: 0.6743\n",
      "Epoch 9/20\n",
      "1/1 - 0s - 102ms/step - accuracy: 0.8333 - loss: 0.6713\n",
      "Epoch 10/20\n",
      "1/1 - 0s - 62ms/step - accuracy: 1.0000 - loss: 0.6683\n",
      "Epoch 11/20\n",
      "1/1 - 0s - 101ms/step - accuracy: 1.0000 - loss: 0.6653\n",
      "Epoch 12/20\n",
      "1/1 - 0s - 81ms/step - accuracy: 1.0000 - loss: 0.6623\n",
      "Epoch 13/20\n",
      "1/1 - 0s - 127ms/step - accuracy: 1.0000 - loss: 0.6593\n",
      "Epoch 14/20\n",
      "1/1 - 0s - 85ms/step - accuracy: 1.0000 - loss: 0.6563\n",
      "Epoch 15/20\n",
      "1/1 - 0s - 100ms/step - accuracy: 1.0000 - loss: 0.6533\n",
      "Epoch 16/20\n",
      "1/1 - 0s - 74ms/step - accuracy: 1.0000 - loss: 0.6502\n",
      "Epoch 17/20\n",
      "1/1 - 0s - 68ms/step - accuracy: 1.0000 - loss: 0.6472\n",
      "Epoch 18/20\n",
      "1/1 - 0s - 60ms/step - accuracy: 1.0000 - loss: 0.6441\n",
      "Epoch 19/20\n",
      "1/1 - 0s - 58ms/step - accuracy: 1.0000 - loss: 0.6411\n",
      "Epoch 20/20\n",
      "1/1 - 0s - 60ms/step - accuracy: 1.0000 - loss: 0.6380\n"
     ]
    }
   ],
   "source": [
    "history = model.fit(\n",
    "    padded_sequences, \n",
    "    np.array(labels), \n",
    "    epochs=20, \n",
    "    verbose=2\n",
    ")"
   ]
  },
  {
   "cell_type": "code",
   "execution_count": 16,
   "id": "88ea1fdb",
   "metadata": {},
   "outputs": [
    {
     "name": "stdout",
     "output_type": "stream",
     "text": [
      "\u001b[1m1/1\u001b[0m \u001b[32m━━━━━━━━━━━━━━━━━━━━\u001b[0m\u001b[37m\u001b[0m \u001b[1m0s\u001b[0m 37ms/step\n",
      "'I really didn't enjoy this!' -> Positive (probability: 0.5022)\n",
      "'Worst experience ever.' -> Positive (probability: 0.5027)\n",
      "'What a fantastic movie!' -> Positive (probability: 0.5106)\n",
      "'I will never watch this again.' -> Negative (probability: 0.4835)\n"
     ]
    }
   ],
   "source": [
    "test_texts = [\n",
    "    \"I really didn't enjoy this!\",          # Should be positive\n",
    "    \"Worst experience ever.\",          # Should be negative\n",
    "    \"What a fantastic movie!\",         # Should be positive\n",
    "    \"I will never watch this again.\"   # Should be negative\n",
    "]\n",
    "\n",
    "# 1. Convert the new texts into sequences of numbers using the same tokenizer\n",
    "test_sequences = tokenizer.texts_to_sequences(test_texts)\n",
    "\n",
    "# 2. Pad these sequences so they're the same length as the training data\n",
    "test_padded = pad_sequences(test_sequences, padding='post', maxlen=8)\n",
    "\n",
    "# 3. Use the trained model to make predictions\n",
    "predictions = model.predict(test_padded)\n",
    "\n",
    "# 4. Interpret and print the results\n",
    "for text, pred in zip(test_texts, predictions):\n",
    "    probability = pred[0]\n",
    "    sentiment = \"Positive\" if probability >= 0.5 else \"Negative\"\n",
    "    print(f\"'{text}' -> {sentiment} (probability: {probability:.4f})\")"
   ]
  },
  {
   "cell_type": "code",
   "execution_count": null,
   "id": "9a453c42",
   "metadata": {},
   "outputs": [],
   "source": []
  }
 ],
 "metadata": {
  "kernelspec": {
   "display_name": "Python 3",
   "language": "python",
   "name": "python3"
  },
  "language_info": {
   "codemirror_mode": {
    "name": "ipython",
    "version": 3
   },
   "file_extension": ".py",
   "mimetype": "text/x-python",
   "name": "python",
   "nbconvert_exporter": "python",
   "pygments_lexer": "ipython3",
   "version": "3.11.9"
  }
 },
 "nbformat": 4,
 "nbformat_minor": 5
}
