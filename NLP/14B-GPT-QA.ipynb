{
 "cells": [
  {
   "cell_type": "code",
   "execution_count": 11,
   "id": "05b9a8d1",
   "metadata": {},
   "outputs": [],
   "source": [
    "from transformers import pipeline"
   ]
  },
  {
   "cell_type": "code",
   "execution_count": 12,
   "id": "69250223",
   "metadata": {},
   "outputs": [
    {
     "name": "stderr",
     "output_type": "stream",
     "text": [
      "Device set to use cpu\n"
     ]
    }
   ],
   "source": [
    "generator = pipeline(\"text-generation\", model=\"gpt2\")"
   ]
  },
  {
   "cell_type": "code",
   "execution_count": 13,
   "id": "04730473",
   "metadata": {},
   "outputs": [],
   "source": [
    "context = (\n",
    "    \"Artificial Intelligence (AI) is the field of computer science focused on creating systems capable of performing tasks \"\n",
    "    \"that typically require human intelligence. Machine Learning (ML) is a subset of AI that enables computers to learn from data \"\n",
    "    \"and improve their performance over time without being explicitly programmed. Deep Learning, a branch of ML, uses neural networks \"\n",
    "    \"with many layers to analyze various forms of data. These technologies are widely used in applications such as natural language \"\n",
    "    \"processing, image recognition, and autonomous vehicles.\"\n",
    ")"
   ]
  },
  {
   "cell_type": "code",
   "execution_count": 14,
   "id": "4b1d94f7",
   "metadata": {},
   "outputs": [],
   "source": [
    "questions = [\n",
    "    \"What is Artificial Intelligence?\",\n",
    "    \"How does Machine Learning differ from traditional programming?\",\n",
    "    \"What is Deep Learning?\",\n",
    "    \"Give an example of an application of Machine Learning.\",\n",
    "]"
   ]
  },
  {
   "cell_type": "code",
   "execution_count": 15,
   "id": "c26ca4df",
   "metadata": {},
   "outputs": [
    {
     "name": "stderr",
     "output_type": "stream",
     "text": [
      "Truncation was not explicitly activated but `max_length` is provided a specific value, please use `truncation=True` to explicitly truncate examples to max length. Defaulting to 'longest_first' truncation strategy. If you encode pairs of sequences (GLUE-style) with the tokenizer you can select this strategy more precisely by providing a specific strategy to `truncation`.\n",
      "Setting `pad_token_id` to `eos_token_id`:50256 for open-end generation.\n",
      "Both `max_new_tokens` (=256) and `max_length`(=100) seem to have been set. `max_new_tokens` will take precedence. Please refer to the documentation for more information. (https://huggingface.co/docs/transformers/main/en/main_classes/text_generation)\n",
      "Setting `pad_token_id` to `eos_token_id`:50256 for open-end generation.\n",
      "Both `max_new_tokens` (=256) and `max_length`(=100) seem to have been set. `max_new_tokens` will take precedence. Please refer to the documentation for more information. (https://huggingface.co/docs/transformers/main/en/main_classes/text_generation)\n"
     ]
    },
    {
     "name": "stdout",
     "output_type": "stream",
     "text": [
      "==================================================\n",
      "QUESTION: What is Artificial Intelligence?\n",
      "ANSWER: are your experiences with the role of AI in the workplace?\n",
      "\n",
      "Answer: The main challenge facing the United States is replacing the outdated, inefficient, and inefficient government services that are currently being offered to the vast majority of Americans, including education, healthcare, and financial services. As a result of this we are seeing an increased emphasis on automation and the importance of automation in our lives. This is reflected by rising inequality and the increasing levels of unemployment and underemployment of Americans.\n",
      "\n",
      "This has been a problem for many of us over the past few decades. We now see a growing number of people who are not in the workforce, who are not able to find a job, who are not able to get a decent job, and who are forced to leave the workforce at a time when their pay for the remainder of their lives is rising. These are the people that have lost their jobs and are now paying the highest incomes in the economy. These are the people who are struggling to make ends meet while making their families and communities poorer.\n",
      "==================================================\n"
     ]
    },
    {
     "name": "stderr",
     "output_type": "stream",
     "text": [
      "Setting `pad_token_id` to `eos_token_id`:50256 for open-end generation.\n",
      "Both `max_new_tokens` (=256) and `max_length`(=100) seem to have been set. `max_new_tokens` will take precedence. Please refer to the documentation for more information. (https://huggingface.co/docs/transformers/main/en/main_classes/text_generation)\n"
     ]
    },
    {
     "name": "stdout",
     "output_type": "stream",
     "text": [
      "==================================================\n",
      "QUESTION: How does Machine Learning differ from traditional programming?\n",
      "ANSWER: is the AI system designed?\n",
      "\n",
      "A: In this article I think that the AI system is designed to be able to interact with human information. This is mainly because the AI system has been developed as a tool for human interaction with information that is normally inaccessible as an autonomous vehicle (AV). This could be the case with vehicles such as the Lexus RC4, because you can interact with their information that is normally inaccessible to humans. However, many other vehicles are also known and used to train people to operate autonomous vehicles. The technology that is currently being developed for AI systems is called Deep Learning.\n",
      "\n",
      "Machine Learning (ML) is a branch of ML, which is used in many commercial and industrial applications that require human intelligence. Most of the applications that have been developed for AI systems are very similar to autonomous vehicles. However, the use of deep learning is limited. For example, deep learning algorithms for machine learning often fail due to their poor accuracy due to the fact that they are not very good at training humans to perform tasks that are difficult to train a human.\n",
      "\n",
      "Question: What are the advantages of AI over human-computer interaction?\n",
      "\n",
      "A: There are many advantages of AI over human-computer interaction. First of all, humans are not as\n",
      "==================================================\n"
     ]
    },
    {
     "name": "stderr",
     "output_type": "stream",
     "text": [
      "Setting `pad_token_id` to `eos_token_id`:50256 for open-end generation.\n",
      "Both `max_new_tokens` (=256) and `max_length`(=100) seem to have been set. `max_new_tokens` will take precedence. Please refer to the documentation for more information. (https://huggingface.co/docs/transformers/main/en/main_classes/text_generation)\n"
     ]
    },
    {
     "name": "stdout",
     "output_type": "stream",
     "text": [
      "==================================================\n",
      "QUESTION: What is Deep Learning?\n",
      "ANSWER: is the best way to learn from images and video?\n",
      "\n",
      "Answer: The best way to learn from images and video is by understanding how to think and act.\n",
      "\n",
      "An example of an image:\n",
      "\n",
      "Imagine you're walking around the world and you know you can fly. You've got to make a decision, and you start making decisions and you don't know what to do. You've got to make decisions. You're walking around and you're thinking about cars. So you've got to make a decision and you don't know what to do. And you don't know what to do with your time. And you don't know what to do with your money. And you don't know what to do with your life. You don't know what to do with your possessions. And you don't know what to do with your life.\n",
      "\n",
      "This example is interesting because it illustrates the fundamental power of imagery and how it can be used to analyze a variety of things. Imagine you have a piece of information that you need to think about what you want to think about. And then you're walking across a street. You've got to make a decision. And you think about a new car, you're going to take this car to the grocery store\n",
      "==================================================\n",
      "==================================================\n",
      "QUESTION: Give an example of an application of Machine Learning.\n",
      "ANSWER: us some examples of AI that are used and why aren't they used in a wide range of applications.\n",
      "\n",
      "Answer: Most of the techniques used in AI are simple and are not necessary for human-computer interactions. However, some of them are very useful because they allow us to perform tasks that many humans cannot do. For example, you can make a bot that can recognize faces and take photos, but it cannot recognize faces that do not exist. It can do tasks that are very difficult to perform in human minds, such as take a picture of an animal and then use that to tell it about the future.\n",
      "\n",
      "Machine Learning is a subset of AI that enables computers to learn from data and improve their performance over time without being explicitly programmed. Deep Learning uses neural networks with many layers to analyze various forms of data. These technologies are widely used in applications such as natural language processing, image recognition, and autonomous vehicles.\n",
      "\n",
      "Question: If you could go back to the beginning and say you were taught to use computers in a variety of applications, what would you do differently?\n",
      "\n",
      "Answer: I would say that one of the reasons many people think of AI as a new field is because it can be applied to many different types of applications. For example, it\n",
      "==================================================\n"
     ]
    }
   ],
   "source": [
    "for question in questions:\n",
    "    # Combine context and question in a prompt for GPT\n",
    "    prompt = f\"{context}\\n\\nQuestion: {question}\\nAnswer:\"\n",
    "    # Generate answer using GPT-2\n",
    "    output = generator(prompt, max_length=100, num_return_sequences=1)\n",
    "    # Extract only the answer part\n",
    "    generated_text = output[0]['generated_text']\n",
    "    answer = generated_text[len(prompt):].strip()\n",
    "    # Print the question and GPT's answer\n",
    "    print(\"=\"*50)\n",
    "    print(f\"QUESTION: {question}\")\n",
    "    print(\"ANSWER:\", answer)\n",
    "    print(\"=\"*50)"
   ]
  },
  {
   "cell_type": "code",
   "execution_count": null,
   "id": "c9aa0b9a",
   "metadata": {},
   "outputs": [],
   "source": []
  }
 ],
 "metadata": {
  "kernelspec": {
   "display_name": "Python 3",
   "language": "python",
   "name": "python3"
  },
  "language_info": {
   "codemirror_mode": {
    "name": "ipython",
    "version": 3
   },
   "file_extension": ".py",
   "mimetype": "text/x-python",
   "name": "python",
   "nbconvert_exporter": "python",
   "pygments_lexer": "ipython3",
   "version": "3.11.9"
  }
 },
 "nbformat": 4,
 "nbformat_minor": 5
}
