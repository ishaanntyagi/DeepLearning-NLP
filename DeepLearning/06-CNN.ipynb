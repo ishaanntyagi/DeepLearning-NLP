{
 "cells": [
  {
   "cell_type": "code",
   "execution_count": 24,
   "id": "384cc714",
   "metadata": {},
   "outputs": [],
   "source": [
    "import torch \n",
    "import torch.nn as nn\n",
    "import torch.nn.functional as F"
   ]
  },
  {
   "cell_type": "code",
   "execution_count": 30,
   "id": "327c7b07",
   "metadata": {},
   "outputs": [],
   "source": [
    "class SimpleCNN(nn.Module):\n",
    "    def __init__(self):\n",
    "        super(SimpleCNN, self).__init__()\n",
    "        self.conv1 = nn.Conv2d(in_channels = 1, out_channels = 8, kernel_size = 3, padding = 1)\n",
    "        self.conv2 = nn.Conv2d(8, 16, 3, padding=1)\n",
    "        self.fc1   = nn.Linear(16 * 7 * 7, 10)\n",
    "        \n",
    "    def forward(self, x):\n",
    "        x = F.relu(self.conv1(x))  #passes the result to the first Layer.\n",
    "        x = F.max_pool2d(x, 2)     #pools down the feature map via pooling layer.\n",
    "        x = F.relu(self.conv2(x))#passes to the 2nd Conv Layer.\n",
    "        x = F.max_pool2d(x, 2) \n",
    "        x = x.view(x.size(0),-1)\n",
    "        x = self.fc1(x) #passes the 1D Vector to the fully Connected Layer.\n",
    "        return x\n",
    "    \n",
    "#This is the structure of simple CNN, working on random sample Data For CNN Classification.     "
   ]
  },
  {
   "cell_type": "code",
   "execution_count": 32,
   "id": "7c60153f",
   "metadata": {},
   "outputs": [
    {
     "name": "stdout",
     "output_type": "stream",
     "text": [
      "tensor([[-0.0331,  0.3515,  0.4299,  0.1498, -0.0409, -0.3572,  0.3248, -0.0436,\n",
      "         -0.1807,  0.2704],\n",
      "        [ 0.1258,  0.3293,  0.3822,  0.0221, -0.0027, -0.2829,  0.2856, -0.0082,\n",
      "         -0.1648,  0.3802],\n",
      "        [ 0.0886,  0.1820,  0.3313,  0.0365, -0.0187, -0.1940,  0.3313,  0.0247,\n",
      "         -0.1163,  0.3113],\n",
      "        [ 0.0083,  0.2932,  0.3436,  0.0913, -0.0809, -0.2748,  0.4484, -0.0343,\n",
      "         -0.1083,  0.1606],\n",
      "        [-0.0432,  0.2711,  0.3457,  0.0718,  0.0264, -0.2670,  0.4748, -0.0607,\n",
      "         -0.1245,  0.2166],\n",
      "        [ 0.0042,  0.2232,  0.3909,  0.1484,  0.1001, -0.2291,  0.3198,  0.0488,\n",
      "         -0.1859,  0.2744],\n",
      "        [ 0.2193,  0.1607,  0.3503,  0.0580,  0.0285, -0.3054,  0.4145,  0.1343,\n",
      "         -0.3197,  0.4279],\n",
      "        [ 0.1779,  0.2470,  0.2822,  0.1463,  0.0097, -0.2927,  0.2229, -0.0099,\n",
      "         -0.2582,  0.3279]], grad_fn=<AddmmBackward0>)\n"
     ]
    }
   ],
   "source": [
    "if __name__ == \"__main__\":\n",
    "    model = SimpleCNN()\n",
    "    images = torch.randn(8,1,28,28)\n",
    "    labels = torch.randint(0,10,(8,))\n",
    "    outputs = model(images)\n",
    "    print(outputs)"
   ]
  },
  {
   "cell_type": "code",
   "execution_count": null,
   "id": "f072c460",
   "metadata": {},
   "outputs": [],
   "source": []
  }
 ],
 "metadata": {
  "kernelspec": {
   "display_name": "Python 3",
   "language": "python",
   "name": "python3"
  },
  "language_info": {
   "codemirror_mode": {
    "name": "ipython",
    "version": 3
   },
   "file_extension": ".py",
   "mimetype": "text/x-python",
   "name": "python",
   "nbconvert_exporter": "python",
   "pygments_lexer": "ipython3",
   "version": "3.11.9"
  }
 },
 "nbformat": 4,
 "nbformat_minor": 5
}
