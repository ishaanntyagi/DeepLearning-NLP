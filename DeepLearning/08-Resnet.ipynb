{
 "cells": [
  {
   "cell_type": "markdown",
   "id": "0a5f1c2f",
   "metadata": {},
   "source": [
    "-> Stands for Residual Network.\n",
    "-> Deep Learning Technique.\n",
    "-> Has the concepts of Skip Connections \n",
    "-> (Some Layers skip over one or more Layers, Rather than passing its output to the next)."
   ]
  },
  {
   "cell_type": "code",
   "execution_count": null,
   "id": "b364f9be",
   "metadata": {},
   "outputs": [],
   "source": [
    "from tensorflow.keras.applications import ResNet50"
   ]
  },
  {
   "cell_type": "code",
   "execution_count": null,
   "id": "34073855",
   "metadata": {},
   "outputs": [],
   "source": [
    "model = ResNet50(weights='imagenet')\n",
    "    "
   ]
  }
 ],
 "metadata": {
  "kernelspec": {
   "display_name": "Python 3",
   "language": "python",
   "name": "python3"
  },
  "language_info": {
   "codemirror_mode": {
    "name": "ipython",
    "version": 3
   },
   "file_extension": ".py",
   "mimetype": "text/x-python",
   "name": "python",
   "nbconvert_exporter": "python",
   "pygments_lexer": "ipython3",
   "version": "3.11.9"
  }
 },
 "nbformat": 4,
 "nbformat_minor": 5
}
