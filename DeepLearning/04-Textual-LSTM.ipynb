{
 "cells": [
  {
   "cell_type": "code",
   "execution_count": 7,
   "id": "1df4da42",
   "metadata": {},
   "outputs": [],
   "source": [
    "import numpy as np \n",
    "from tensorflow.keras.layers import Embedding, LSTM, Dense\n",
    "from tensorflow.keras.preprocessing.sequence import pad_sequences\n",
    "from tensorflow.keras.models import Sequential\n",
    "from tensorflow.keras.preprocessing.text import Tokenizer"
   ]
  },
  {
   "cell_type": "code",
   "execution_count": 4,
   "id": "c2597fae",
   "metadata": {},
   "outputs": [],
   "source": [
    "texts = [\n",
    "    \"I love this product\",\n",
    "    \"This is the best experience\",\n",
    "    \"I hate this\",\n",
    "    \"This is terrible\"\n",
    "]\n"
   ]
  },
  {
   "cell_type": "code",
   "execution_count": null,
   "id": "3f697b9b",
   "metadata": {},
   "outputs": [],
   "source": [
    "Labels = [1,1,0,0]\n"
   ]
  },
  {
   "cell_type": "code",
   "execution_count": 11,
   "id": "4f892060",
   "metadata": {},
   "outputs": [],
   "source": [
    "tokenizer = Tokenizer()\n",
    "tokenizer.fit_on_texts(texts)\n",
    "sequences = tokenizer.texts_to_sequences(texts)\n"
   ]
  },
  {
   "cell_type": "code",
   "execution_count": 12,
   "id": "db8e0593",
   "metadata": {},
   "outputs": [],
   "source": [
    "maxlen = max(len(seq)for seq in sequences)\n"
   ]
  },
  {
   "cell_type": "code",
   "execution_count": null,
   "id": "cfcd4545",
   "metadata": {},
   "outputs": [],
   "source": [
    "padded_sequences = pad_sequences(sequences, maxlen=maxlen, padding='post')\n",
    "#pad with Zeroes at The End."
   ]
  },
  {
   "cell_type": "code",
   "execution_count": 17,
   "id": "25339bf8",
   "metadata": {},
   "outputs": [],
   "source": [
    "vocab_size = len(tokenizer.word_index) + 1"
   ]
  },
  {
   "cell_type": "code",
   "execution_count": 18,
   "id": "fd141a3c",
   "metadata": {},
   "outputs": [
    {
     "name": "stderr",
     "output_type": "stream",
     "text": [
      "c:\\Users\\ishaan.narayan\\AppData\\Local\\Programs\\Python\\Python311\\Lib\\site-packages\\keras\\src\\layers\\core\\embedding.py:97: UserWarning: Argument `input_length` is deprecated. Just remove it.\n",
      "  warnings.warn(\n"
     ]
    }
   ],
   "source": [
    "model = Sequential()\n",
    "model.add(Embedding(input_dim=vocab_size, output_dim=8, input_length=maxlen))  # Learn word meanings\n",
    "model.add(LSTM(8))\n",
    "model.add(Dense(1, activation='sigmoid'))\n",
    "\n"
   ]
  },
  {
   "cell_type": "code",
   "execution_count": null,
   "id": "561ef4ad",
   "metadata": {},
   "outputs": [],
   "source": [
    "model.compile(optimizer='adam', loss='binary_crossentropy', metrics=['accuracy'])\n",
    "model.fit(padded_sequences, np.array(labels), epochs=20, verbose=1)"
   ]
  },
  {
   "cell_type": "code",
   "execution_count": 22,
   "id": "f59415ad",
   "metadata": {},
   "outputs": [],
   "source": [
    "#sample Text\n",
    "test_texts = [\n",
    "    \"I love it\",\n",
    "    \"This is awful\"\n",
    "]\n",
    "\n"
   ]
  },
  {
   "cell_type": "code",
   "execution_count": 24,
   "id": "ee460657",
   "metadata": {},
   "outputs": [
    {
     "name": "stdout",
     "output_type": "stream",
     "text": [
      "\u001b[1m1/1\u001b[0m \u001b[32m━━━━━━━━━━━━━━━━━━━━\u001b[0m\u001b[37m\u001b[0m \u001b[1m0s\u001b[0m 414ms/step\n"
     ]
    }
   ],
   "source": [
    "test_sequences = tokenizer.texts_to_sequences(test_texts)\n",
    "test_padded = pad_sequences(test_sequences, maxlen=maxlen, padding='post')\n",
    "predictions = model.predict(test_padded)"
   ]
  },
  {
   "cell_type": "code",
   "execution_count": 25,
   "id": "96e95cc8",
   "metadata": {},
   "outputs": [
    {
     "name": "stdout",
     "output_type": "stream",
     "text": [
      "Text: 'I love it' => Prediction: Negative (score: 0.50)\n",
      "Text: 'This is awful' => Prediction: Negative (score: 0.50)\n"
     ]
    }
   ],
   "source": [
    "for text, pred in zip(test_texts, predictions):\n",
    "    sentiment = \"Positive\" if pred[0] >= 0.5 else \"Negative\"\n",
    "    print(f\"Text: '{text}' => Prediction: {sentiment} (score: {pred[0]:.2f})\")"
   ]
  }
 ],
 "metadata": {
  "kernelspec": {
   "display_name": "Python 3",
   "language": "python",
   "name": "python3"
  },
  "language_info": {
   "codemirror_mode": {
    "name": "ipython",
    "version": 3
   },
   "file_extension": ".py",
   "mimetype": "text/x-python",
   "name": "python",
   "nbconvert_exporter": "python",
   "pygments_lexer": "ipython3",
   "version": "3.11.9"
  }
 },
 "nbformat": 4,
 "nbformat_minor": 5
}
