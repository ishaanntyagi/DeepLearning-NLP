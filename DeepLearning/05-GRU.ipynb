{
 "cells": [
  {
   "cell_type": "code",
   "execution_count": 2,
   "id": "b06b5017",
   "metadata": {},
   "outputs": [],
   "source": [
    "import torch \n",
    "import torch.nn as nn"
   ]
  },
  {
   "cell_type": "code",
   "execution_count": 5,
   "id": "24b9ad70",
   "metadata": {},
   "outputs": [],
   "source": [
    "input_size = 3\n",
    "hidden_size = 2\n",
    "seq_len = 5\n",
    "batch_size = 1"
   ]
  },
  {
   "cell_type": "code",
   "execution_count": null,
   "id": "8f2862fe",
   "metadata": {},
   "outputs": [],
   "source": [
    "#creating a GRU Layer \n",
    "gru = nn.GRU(input_size, hidden_size, batch_first=True)"
   ]
  },
  {
   "cell_type": "code",
   "execution_count": 7,
   "id": "b61252bb",
   "metadata": {},
   "outputs": [],
   "source": [
    "#creating Random Data For Input \n",
    "inputs = torch.randn(batch_size, seq_len, input_size)"
   ]
  },
  {
   "cell_type": "code",
   "execution_count": 8,
   "id": "a9dd8f83",
   "metadata": {},
   "outputs": [],
   "source": [
    "#Starting The Hidden State \n",
    "h0 = torch.zeros(1, batch_size, hidden_size)\n",
    "\n"
   ]
  },
  {
   "cell_type": "code",
   "execution_count": 10,
   "id": "3c697890",
   "metadata": {},
   "outputs": [],
   "source": [
    "output, hn = gru(inputs, h0)\n",
    "# hn --> final Hidden State \n",
    "# input , first hidden state \n",
    "\n"
   ]
  },
  {
   "cell_type": "code",
   "execution_count": 11,
   "id": "fd1552cd",
   "metadata": {},
   "outputs": [
    {
     "name": "stdout",
     "output_type": "stream",
     "text": [
      "GRU output for each timestep:\n",
      " tensor([[[ 0.2610, -0.1232],\n",
      "         [-0.3726,  0.2349],\n",
      "         [-0.0145, -0.0230],\n",
      "         [-0.7124,  0.3191],\n",
      "         [-0.3016,  0.0405]]], grad_fn=<TransposeBackward1>)\n",
      "Final hidden state:\n",
      " tensor([[[-0.3016,  0.0405]]], grad_fn=<StackBackward0>)\n"
     ]
    }
   ],
   "source": [
    "print(\"GRU output for each timestep:\\n\", output)\n",
    "print(\"Final hidden state:\\n\", hn)"
   ]
  }
 ],
 "metadata": {
  "kernelspec": {
   "display_name": "Python 3",
   "language": "python",
   "name": "python3"
  },
  "language_info": {
   "codemirror_mode": {
    "name": "ipython",
    "version": 3
   },
   "file_extension": ".py",
   "mimetype": "text/x-python",
   "name": "python",
   "nbconvert_exporter": "python",
   "pygments_lexer": "ipython3",
   "version": "3.11.9"
  }
 },
 "nbformat": 4,
 "nbformat_minor": 5
}
