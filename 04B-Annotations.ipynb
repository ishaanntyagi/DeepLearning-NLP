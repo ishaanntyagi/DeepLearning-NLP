{
 "cells": [
  {
   "cell_type": "code",
   "execution_count": 2,
   "id": "45e99964",
   "metadata": {},
   "outputs": [],
   "source": [
    "#Applying Named Entity Recognition via Spacy , TextBlob and NLTK\n",
    "from textblob import TextBlob\n",
    "import nltk \n",
    "import spacy\n",
    "text = \"Barack Obama was born in Hawaii and was the 44th President of the United States.\"\n",
    "\n"
   ]
  },
  {
   "cell_type": "code",
   "execution_count": null,
   "id": "69e22496",
   "metadata": {},
   "outputs": [
    {
     "name": "stdout",
     "output_type": "stream",
     "text": [
      "['barack obama', 'hawaii', '44th president']\n"
     ]
    }
   ],
   "source": [
    "#from textBlob the easist , Does not have Named Entity Recognition , but can be used via nounphrases \n",
    "blob = TextBlob(text)\n",
    "print(blob.noun_phrases)"
   ]
  },
  {
   "cell_type": "code",
   "execution_count": 7,
   "id": "3a88ae58",
   "metadata": {},
   "outputs": [
    {
     "name": "stdout",
     "output_type": "stream",
     "text": [
      "Word: 'Barack'  |  Entity type: 'PERSON'\n",
      "Word: 'Obama'  |  Entity type: 'PERSON'\n",
      "Word: 'was'  |  Entity type: 'not an entity'\n",
      "Word: 'born'  |  Entity type: 'not an entity'\n",
      "Word: 'in'  |  Entity type: 'not an entity'\n",
      "Word: 'Hawaii'  |  Entity type: 'GPE'\n",
      "Word: 'and'  |  Entity type: 'not an entity'\n",
      "Word: 'was'  |  Entity type: 'not an entity'\n",
      "Word: 'the'  |  Entity type: 'not an entity'\n",
      "Word: '44th'  |  Entity type: 'ORDINAL'\n",
      "Word: 'President'  |  Entity type: 'not an entity'\n",
      "Word: 'of'  |  Entity type: 'not an entity'\n",
      "Word: 'the'  |  Entity type: 'GPE'\n",
      "Word: 'United'  |  Entity type: 'GPE'\n",
      "Word: 'States'  |  Entity type: 'GPE'\n",
      "Word: '.'  |  Entity type: 'not an entity'\n"
     ]
    }
   ],
   "source": [
    "#using Spacy \n",
    "nlp = spacy.load(\"en_core_web_sm\")\n",
    "doc = nlp(text)\n",
    "for token in doc:\n",
    "    ent = token.ent_type_ if token.ent_type_ else \"not an entity\"\n",
    "    print(f\"Word: '{token.text}'  |  Entity type: '{ent}'\")\n",
    "    \n"
   ]
  },
  {
   "cell_type": "code",
   "execution_count": null,
   "id": "16a8343f",
   "metadata": {},
   "outputs": [],
   "source": []
  }
 ],
 "metadata": {
  "kernelspec": {
   "display_name": "Python 3",
   "language": "python",
   "name": "python3"
  },
  "language_info": {
   "codemirror_mode": {
    "name": "ipython",
    "version": 3
   },
   "file_extension": ".py",
   "mimetype": "text/x-python",
   "name": "python",
   "nbconvert_exporter": "python",
   "pygments_lexer": "ipython3",
   "version": "3.11.9"
  }
 },
 "nbformat": 4,
 "nbformat_minor": 5
}
